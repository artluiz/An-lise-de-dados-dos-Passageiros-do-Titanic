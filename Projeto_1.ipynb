{
 "cells": [
  {
   "cell_type": "code",
   "execution_count": 2,
   "metadata": {
    "colab": {
     "base_uri": "https://localhost:8080/"
    },
    "executionInfo": {
     "elapsed": 123969,
     "status": "ok",
     "timestamp": 1682521651651,
     "user": {
      "displayName": "Luiz Arthur",
      "userId": "09504784223258170052"
     },
     "user_tz": 180
    },
    "id": "IOUrNKl8DJ3G",
    "outputId": "2b507f5d-a153-4ff0-ca8b-504b46b160d8"
   },
   "outputs": [
    {
     "name": "stdout",
     "output_type": "stream",
     "text": [
      "Body Part:  cabeça\n",
      "Verbo:  a\n",
      "Adjetivo:  a\n",
      "Adjetivo:  a\n",
      "Adjetivo:  a\n",
      "Adjetivo:  a\n",
      "Adjetivo:  a\n",
      "Nome:  a\n",
      "Nome:  a\n",
      "Nome (plural):  a\n",
      "Nome (plural):  a\n",
      "Eu amo programar porque é a! A jornada para ser tornar um bom programador começa com esperança em sua mente e um sonho em seu/sua cabeça. Com sangue, suor, e a, nunca terminará. Sim, uma vez que você aprenda a, se torna uma parte da sua vida e você pode se tornar um super a hacker. Conhecimento de programação te deixa tomar controle de seu/sua a. Você pode criar seu próprio(s) a, tudo de desenvolvimento software a a analisar dados e fazer predições sobre a. Você pode criar seu Jarvis e deixar ele mais a. Espero que você comece sua jornada a codando comigo :)\n"
     ]
    }
   ],
   "source": [
    "body_part = input(\"Body Part: \")\n",
    "verb = input(\"Verbo: \")\n",
    "adj1 = input(\"Adjetivo: \")\n",
    "adj2 = input(\"Adjetivo: \")\n",
    "adj3 = input(\"Adjetivo: \")\n",
    "adj4 = input(\"Adjetivo: \")\n",
    "adj5 = input(\"Adjetivo: \")\n",
    "noun1 = input(\"Nome: \")\n",
    "noun2 = input(\"Nome: \")\n",
    "noun_plural_1 = input(\"Nome (plural): \")\n",
    "noun_plural_2 = input(\"Nome (plural): \")\n",
    "\n",
    "madlib = f\"Eu amo programar porque é {adj1}! A jornada para ser tornar um \\\n",
    "bom programador começa com esperança em sua mente e um sonho em seu/sua {body_part}. Com sangue, \\\n",
    "suor, e {noun_plural_1}, nunca terminará. Sim, uma vez que você aprenda {verb}, se torna \\\n",
    "uma parte da sua vida e você pode se tornar um super {adj2} hacker. Conhecimento de programação \\\n",
    "te deixa tomar controle de seu/sua {noun1}. Você pode criar seu próprio(s) {noun_plural_2}, tudo \\\n",
    "de desenvolvimento software {adj3} a analisar dados e fazer predições sobre {noun2}. Você pode \\\n",
    "criar seu Jarvis e deixar ele mais {adj4}. Espero que você comece sua jornada {adj5} \\\n",
    "codando comigo :)\"\n",
    "    \n",
    "print(madlib)"
   ]
  },
  {
   "cell_type": "code",
   "execution_count": 8,
   "metadata": {},
   "outputs": [
    {
     "name": "stdout",
     "output_type": "stream",
     "text": [
      "Digite seu chute 4\n",
      "Muito baixo\n",
      "Digite seu chute 7\n",
      "Muito baixo\n",
      "Digite seu chute 8\n",
      "Muito baixo\n",
      "Digite seu chute 9\n",
      "Parabéns o número era 9\n"
     ]
    }
   ],
   "source": [
    "import random\n",
    "\n",
    "def guess(x):\n",
    "    rand_number = random.randint(1,x)\n",
    "    p_guess = 0\n",
    "    while rand_number != p_guess:\n",
    "        p_guess = int(input(\"Digite seu chute\"))\n",
    "        if p_guess < rand_number:\n",
    "            print(\"Muito baixo\")\n",
    "        elif p_guess > rand_number: \n",
    "            print(\"Muito alto\")\n",
    "    print(f\"Parabéns o número era {rand_number}\")\n",
    "    \n",
    "guess(10)"
   ]
  },
  {
   "cell_type": "code",
   "execution_count": 15,
   "metadata": {},
   "outputs": [
    {
     "name": "stdout",
     "output_type": "stream",
     "text": [
      " 2 é muito alto (h), baixo(l) ou certo (c)? l\n",
      " 6 é muito alto (h), baixo(l) ou certo (c)? c\n",
      "Yay, o computador acertou o número 6 corretamente\n"
     ]
    }
   ],
   "source": [
    "import random\n",
    "\n",
    "def comp_guess(x):\n",
    "    low = 1\n",
    "    high = x\n",
    "    fback = ''\n",
    "    while fback!='c' and low != high:\n",
    "        c_guess = random.randint(low, high)\n",
    "        fback = input(f' {c_guess} é muito alto (h), baixo(l) ou certo (c)?')\n",
    "        if fback == 'l':\n",
    "            low = c_guess+1\n",
    "        elif fback == 'h':\n",
    "            high = c_guess-1\n",
    "    \n",
    "    print(f'Yay, o computador acertou o número {c_guess} corretamente')\n",
    "                     \n",
    "comp_guess(10)\n",
    "    "
   ]
  },
  {
   "cell_type": "code",
   "execution_count": 26,
   "metadata": {},
   "outputs": [
    {
     "name": "stdout",
     "output_type": "stream",
     "text": [
      "Pedra (r), Papel  (p) ou Tesoura (s) s\n",
      "Movimento do computador: p\n",
      "You won\n"
     ]
    }
   ],
   "source": [
    "import random\n",
    "\n",
    "def play():\n",
    "    p_move = input('Pedra (r), Papel  (p) ou Tesoura (s)')\n",
    "    c_move = random.choice(['r', 'p', 's'])\n",
    "    print(f'Movimento do computador: {c_move}')\n",
    "    if p_move == c_move:\n",
    "        print ('Empate')\n",
    "    elif win(p_move, c_move):\n",
    "        return 'You won'\n",
    "    return 'You lost'\n",
    "    \n",
    "    \n",
    "def win(p_move, c_move):\n",
    "    if (p_move =='r' and c_move == 's') or (p_move =='p' and c_move == 'r') or (p_move =='s' and c_move == 'p'):\n",
    "        return True\n",
    "\n",
    "print(play())"
   ]
  },
  {
   "cell_type": "code",
   "execution_count": 2,
   "metadata": {},
   "outputs": [
    {
     "name": "stdout",
     "output_type": "stream",
     "text": [
      "Você tem 7 vidas restantes e usou as letras:  \n",
      "\n",
      "Palavra atual:  - - - - - - - -\n",
      "\n",
      "Você tem 7 vidas restantes e usou as letras:  A\n",
      "\n",
      "Palavra atual:  - - A - - - - -\n",
      "\n",
      "Você tem 7 vidas restantes e usou as letras:  A E\n",
      "\n",
      "Palavra atual:  - E A - E - - -\n",
      "\n",
      "Você tem 7 vidas restantes e usou as letras:  A E L\n",
      "\n",
      "Palavra atual:  - E A - E - - L\n",
      "\n",
      "Sua letra, B is not in the word.\n",
      "Você tem 6 vidas restantes e usou as letras:  A B E L\n",
      "\n",
      "               |\n",
      "               |\n",
      "               |\n",
      "               |\n",
      "               |\n",
      "            \n",
      "Palavra atual:  - E A - E - - L\n",
      "\n",
      "Você tem 6 vidas restantes e usou as letras:  A C B E L\n",
      "\n",
      "               |\n",
      "               |\n",
      "               |\n",
      "               |\n",
      "               |\n",
      "            \n",
      "Palavra atual:  - E A C E - - L\n",
      "\n",
      "Você tem 6 vidas restantes e usou as letras:  A C B F E L\n",
      "\n",
      "               |\n",
      "               |\n",
      "               |\n",
      "               |\n",
      "               |\n",
      "            \n",
      "Palavra atual:  - E A C E F - L\n",
      "\n",
      "Você tem 6 vidas restantes e usou as letras:  A C B F E U L\n",
      "\n",
      "               |\n",
      "               |\n",
      "               |\n",
      "               |\n",
      "               |\n",
      "            \n",
      "Palavra atual:  - E A C E F U L\n",
      "\n",
      "YAY! You guessed the word PEACEFUL !!\n"
     ]
    }
   ],
   "source": [
    "import random\n",
    "from words import words\n",
    "from hangman_visual import lives_visual_dict\n",
    "import string\n",
    "\n",
    "\n",
    "def get_valid_word(words):\n",
    "    word = random.choice(words)  # randomly chooses something from the list\n",
    "    while '-' in word or ' ' in word:\n",
    "        word = random.choice(words)\n",
    "\n",
    "    return word.upper()\n",
    "\n",
    "\n",
    "def hangman():\n",
    "    word = get_valid_word(words)\n",
    "    word_letters = set(word)  # letters in the word\n",
    "    alphabet = set(string.ascii_uppercase)\n",
    "    used_letters = set()  # what the user has guessed\n",
    "\n",
    "    lives = 7\n",
    "\n",
    "    # getting user input\n",
    "    while len(word_letters) > 0 and lives > 0:\n",
    "        # letters used\n",
    "        # ' '.join(['a', 'b', 'cd']) --> 'a b cd'\n",
    "        print('Você tem', lives, 'vidas restantes e usou as letras: ', ' '.join(used_letters))\n",
    "\n",
    "        # what current word is (ie W - R D)\n",
    "        word_list = [letter if letter in used_letters else '-' for letter in word]\n",
    "        print(lives_visual_dict[lives])\n",
    "        print('Palavra atual: ', ' '.join(word_list))\n",
    "\n",
    "        user_letter = input('Chute uma letra: ').upper()\n",
    "        if user_letter in alphabet - used_letters:\n",
    "            used_letters.add(user_letter)\n",
    "            if user_letter in word_letters:\n",
    "                word_letters.remove(user_letter)\n",
    "                print('')\n",
    "\n",
    "            else:\n",
    "                lives = lives - 1  # takes away a life if wrong\n",
    "                print('\\nSua letra,', user_letter, 'não está na palavra.')\n",
    "\n",
    "        elif user_letter in used_letters:\n",
    "            print('\\nLetra já tentada. Chute outra')\n",
    "\n",
    "        else:\n",
    "            print('\\nEsta não é uma palavra válida.')\n",
    "\n",
    "    # gets here when len(word_letters) == 0 OR when lives == 0\n",
    "    if lives == 0:\n",
    "        print(lives_visual_dict[lives])\n",
    "        print('Boom pro béléléu, a palavra era', word)\n",
    "    else:\n",
    "        print('YAY! Você', word, '!!')\n",
    "\n",
    "\n",
    "if __name__ == '__main__':\n",
    "    hangman()"
   ]
  },
  {
   "cell_type": "code",
   "execution_count": null,
   "metadata": {},
   "outputs": [],
   "source": []
  }
 ],
 "metadata": {
  "colab": {
   "authorship_tag": "ABX9TyMnqvZSbgrqmid8VEd9Mv1B",
   "provenance": []
  },
  "kernelspec": {
   "display_name": "Python 3 (ipykernel)",
   "language": "python",
   "name": "python3"
  },
  "language_info": {
   "codemirror_mode": {
    "name": "ipython",
    "version": 3
   },
   "file_extension": ".py",
   "mimetype": "text/x-python",
   "name": "python",
   "nbconvert_exporter": "python",
   "pygments_lexer": "ipython3",
   "version": "3.10.9"
  }
 },
 "nbformat": 4,
 "nbformat_minor": 4
}
